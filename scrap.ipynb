{
 "cells": [
  {
   "cell_type": "code",
   "execution_count": 7,
   "id": "5251c31f",
   "metadata": {},
   "outputs": [],
   "source": [
    "from scrapy import Selector\n",
    "import requests\n",
    "import time\n",
    "import pandas as pd\n",
    "from google.cloud import bigquery\n",
    "import pytz\n",
    "from google.oauth2 import service_account\n",
    "from datetime import datetime as dt"
   ]
  },
  {
   "cell_type": "code",
   "execution_count": 8,
   "id": "505aa293",
   "metadata": {},
   "outputs": [],
   "source": [
    "bq_credentials = service_account.Credentials.from_service_account_file(r\"D:\\work\\Big Query Key\\brimore-fae8c-b3fdc9b459a2.json\")\n",
    "bq_client = bigquery.Client(credentials=bq_credentials, project=bq_credentials.project_id)\n"
   ]
  },
  {
   "cell_type": "code",
   "execution_count": 9,
   "id": "8875ed2b",
   "metadata": {},
   "outputs": [],
   "source": [
    "query = '''\n",
    "    SELECT  distinct concat(device.mobile_brand_name,\" \",device.mobile_marketing_name) as SearchKey\n",
    "        FROM `brimore-fae8c.eve_analytics.events_historical` \n",
    "        WHERE concat(device.mobile_brand_name,\" \",device.mobile_marketing_name) IS NOT NULL\n",
    "'''"
   ]
  },
  {
   "cell_type": "code",
   "execution_count": 10,
   "id": "01e86904",
   "metadata": {},
   "outputs": [],
   "source": [
    "query_job = bq_client.query(query)"
   ]
  },
  {
   "cell_type": "code",
   "execution_count": 11,
   "id": "dc3653fd",
   "metadata": {
    "collapsed": true
   },
   "outputs": [
    {
     "ename": "ImportError",
     "evalue": "Missing optional dependency 'pandas-gbq'. pandas-gbq is required to load data from Google BigQuery. See the docs: https://pandas-gbq.readthedocs.io. Use pip or conda to install pandas-gbq.",
     "output_type": "error",
     "traceback": [
      "\u001b[1;31m---------------------------------------------------------------------------\u001b[0m",
      "\u001b[1;31mImportError\u001b[0m                               Traceback (most recent call last)",
      "\u001b[1;32m<ipython-input-11-c152aa64c92b>\u001b[0m in \u001b[0;36m<module>\u001b[1;34m\u001b[0m\n\u001b[1;32m----> 1\u001b[1;33m \u001b[0mmembers_phones\u001b[0m \u001b[1;33m=\u001b[0m \u001b[0mpd\u001b[0m\u001b[1;33m.\u001b[0m\u001b[0mread_gbq\u001b[0m\u001b[1;33m(\u001b[0m\u001b[0mquery\u001b[0m\u001b[1;33m,\u001b[0m \u001b[0mproject_id\u001b[0m\u001b[1;33m=\u001b[0m\u001b[0mbq_credentials\u001b[0m\u001b[1;33m.\u001b[0m\u001b[0mproject_id\u001b[0m\u001b[1;33m,\u001b[0m \u001b[0mcredentials\u001b[0m\u001b[1;33m=\u001b[0m\u001b[0mbq_credentials\u001b[0m\u001b[1;33m)\u001b[0m\u001b[1;33m\u001b[0m\u001b[1;33m\u001b[0m\u001b[0m\n\u001b[0m",
      "\u001b[1;32m~\\anaconda3\\lib\\site-packages\\pandas\\io\\gbq.py\u001b[0m in \u001b[0;36mread_gbq\u001b[1;34m(query, project_id, index_col, col_order, reauth, auth_local_webserver, dialect, location, configuration, credentials, use_bqstorage_api, max_results, progress_bar_type)\u001b[0m\n\u001b[0;32m    167\u001b[0m     \u001b[0mDataFrame\u001b[0m\u001b[1;33m.\u001b[0m\u001b[0mto_gbq\u001b[0m \u001b[1;33m:\u001b[0m \u001b[0mWrite\u001b[0m \u001b[0ma\u001b[0m \u001b[0mDataFrame\u001b[0m \u001b[0mto\u001b[0m \u001b[0mGoogle\u001b[0m \u001b[0mBigQuery\u001b[0m\u001b[1;33m.\u001b[0m\u001b[1;33m\u001b[0m\u001b[1;33m\u001b[0m\u001b[0m\n\u001b[0;32m    168\u001b[0m     \"\"\"\n\u001b[1;32m--> 169\u001b[1;33m     \u001b[0mpandas_gbq\u001b[0m \u001b[1;33m=\u001b[0m \u001b[0m_try_import\u001b[0m\u001b[1;33m(\u001b[0m\u001b[1;33m)\u001b[0m\u001b[1;33m\u001b[0m\u001b[1;33m\u001b[0m\u001b[0m\n\u001b[0m\u001b[0;32m    170\u001b[0m \u001b[1;33m\u001b[0m\u001b[0m\n\u001b[0;32m    171\u001b[0m     \u001b[0mkwargs\u001b[0m\u001b[1;33m:\u001b[0m \u001b[0mDict\u001b[0m\u001b[1;33m[\u001b[0m\u001b[0mstr\u001b[0m\u001b[1;33m,\u001b[0m \u001b[0mUnion\u001b[0m\u001b[1;33m[\u001b[0m\u001b[0mstr\u001b[0m\u001b[1;33m,\u001b[0m \u001b[0mbool\u001b[0m\u001b[1;33m,\u001b[0m \u001b[0mint\u001b[0m\u001b[1;33m,\u001b[0m \u001b[1;32mNone\u001b[0m\u001b[1;33m]\u001b[0m\u001b[1;33m]\u001b[0m \u001b[1;33m=\u001b[0m \u001b[1;33m{\u001b[0m\u001b[1;33m}\u001b[0m\u001b[1;33m\u001b[0m\u001b[1;33m\u001b[0m\u001b[0m\n",
      "\u001b[1;32m~\\anaconda3\\lib\\site-packages\\pandas\\io\\gbq.py\u001b[0m in \u001b[0;36m_try_import\u001b[1;34m()\u001b[0m\n\u001b[0;32m     15\u001b[0m         \u001b[1;34m\"See the docs: https://pandas-gbq.readthedocs.io.\"\u001b[0m\u001b[1;33m\u001b[0m\u001b[1;33m\u001b[0m\u001b[0m\n\u001b[0;32m     16\u001b[0m     )\n\u001b[1;32m---> 17\u001b[1;33m     \u001b[0mpandas_gbq\u001b[0m \u001b[1;33m=\u001b[0m \u001b[0mimport_optional_dependency\u001b[0m\u001b[1;33m(\u001b[0m\u001b[1;34m\"pandas_gbq\"\u001b[0m\u001b[1;33m,\u001b[0m \u001b[0mextra\u001b[0m\u001b[1;33m=\u001b[0m\u001b[0mmsg\u001b[0m\u001b[1;33m)\u001b[0m\u001b[1;33m\u001b[0m\u001b[1;33m\u001b[0m\u001b[0m\n\u001b[0m\u001b[0;32m     18\u001b[0m     \u001b[1;32mreturn\u001b[0m \u001b[0mpandas_gbq\u001b[0m\u001b[1;33m\u001b[0m\u001b[1;33m\u001b[0m\u001b[0m\n\u001b[0;32m     19\u001b[0m \u001b[1;33m\u001b[0m\u001b[0m\n",
      "\u001b[1;32m~\\anaconda3\\lib\\site-packages\\pandas\\compat\\_optional.py\u001b[0m in \u001b[0;36mimport_optional_dependency\u001b[1;34m(name, extra, raise_on_missing, on_version)\u001b[0m\n\u001b[0;32m    107\u001b[0m     \u001b[1;32mexcept\u001b[0m \u001b[0mImportError\u001b[0m\u001b[1;33m:\u001b[0m\u001b[1;33m\u001b[0m\u001b[1;33m\u001b[0m\u001b[0m\n\u001b[0;32m    108\u001b[0m         \u001b[1;32mif\u001b[0m \u001b[0mraise_on_missing\u001b[0m\u001b[1;33m:\u001b[0m\u001b[1;33m\u001b[0m\u001b[1;33m\u001b[0m\u001b[0m\n\u001b[1;32m--> 109\u001b[1;33m             \u001b[1;32mraise\u001b[0m \u001b[0mImportError\u001b[0m\u001b[1;33m(\u001b[0m\u001b[0mmsg\u001b[0m\u001b[1;33m)\u001b[0m \u001b[1;32mfrom\u001b[0m \u001b[1;32mNone\u001b[0m\u001b[1;33m\u001b[0m\u001b[1;33m\u001b[0m\u001b[0m\n\u001b[0m\u001b[0;32m    110\u001b[0m         \u001b[1;32melse\u001b[0m\u001b[1;33m:\u001b[0m\u001b[1;33m\u001b[0m\u001b[1;33m\u001b[0m\u001b[0m\n\u001b[0;32m    111\u001b[0m             \u001b[1;32mreturn\u001b[0m \u001b[1;32mNone\u001b[0m\u001b[1;33m\u001b[0m\u001b[1;33m\u001b[0m\u001b[0m\n",
      "\u001b[1;31mImportError\u001b[0m: Missing optional dependency 'pandas-gbq'. pandas-gbq is required to load data from Google BigQuery. See the docs: https://pandas-gbq.readthedocs.io. Use pip or conda to install pandas-gbq."
     ]
    }
   ],
   "source": [
    "members_phones = pd.read_gbq(query, project_id=bq_credentials.project_id, credentials=bq_credentials)"
   ]
  },
  {
   "cell_type": "code",
   "execution_count": null,
   "id": "ffdde11f",
   "metadata": {},
   "outputs": [],
   "source": [
    "members_phones = members_phones.set_index('SearchKey')\n",
    "key_words = members_phones.index.tolist()"
   ]
  },
  {
   "cell_type": "code",
   "execution_count": null,
   "id": "49fbd38b",
   "metadata": {},
   "outputs": [],
   "source": [
    "start_time = time.time()\n",
    "dict={}\n",
    "list_urls=[]\n",
    "dic_list_urls = {}\n",
    "for key in key_words:\n",
    "#     print(key)\n",
    "    url='https://mobizil.com/?s=' + key\n",
    "    html=requests.get(url).content\n",
    "    sel=Selector(text=html)\n",
    "    for i in range(1,11):\n",
    "        l = sel.xpath('//*[@id=\"content\"]/div/div/div[1]/div/article[%d]/h2/a/text()' % i).extract()\n",
    "        s = ''.join(n for n in l)\n",
    "        if s.find('سعر و مواصفات') != -1:\n",
    "            x = (sel.xpath('//*[@id=\"content\"]/div/div/div[1]/div/article[%d]/h2/a/@href' % i).extract()[0])\n",
    "            list_urls.append(x)\n",
    "            dic_list_urls[x] = key\n",
    "            break\n",
    "#     dict[url] = key\n",
    "print(time.time() - start_time)"
   ]
  },
  {
   "cell_type": "code",
   "execution_count": 2,
   "id": "2cf662b0",
   "metadata": {},
   "outputs": [],
   "source": [
    "# dic_list_urls"
   ]
  },
  {
   "cell_type": "code",
   "execution_count": 3,
   "id": "dcb42fb7",
   "metadata": {
    "collapsed": true
   },
   "outputs": [
    {
     "ename": "NameError",
     "evalue": "name 'dic_list_urls' is not defined",
     "output_type": "error",
     "traceback": [
      "\u001b[1;31m---------------------------------------------------------------------------\u001b[0m",
      "\u001b[1;31mNameError\u001b[0m                                 Traceback (most recent call last)",
      "\u001b[1;32m<ipython-input-3-321e6d1dee22>\u001b[0m in \u001b[0;36m<module>\u001b[1;34m\u001b[0m\n\u001b[0;32m      1\u001b[0m \u001b[0mstart_time\u001b[0m \u001b[1;33m=\u001b[0m \u001b[0mtime\u001b[0m\u001b[1;33m.\u001b[0m\u001b[0mtime\u001b[0m\u001b[1;33m(\u001b[0m\u001b[1;33m)\u001b[0m\u001b[1;33m\u001b[0m\u001b[1;33m\u001b[0m\u001b[0m\n\u001b[0;32m      2\u001b[0m \u001b[0mdictionary2\u001b[0m\u001b[1;33m=\u001b[0m\u001b[1;33m{\u001b[0m\u001b[1;33m}\u001b[0m\u001b[1;33m\u001b[0m\u001b[1;33m\u001b[0m\u001b[0m\n\u001b[1;32m----> 3\u001b[1;33m \u001b[1;32mfor\u001b[0m \u001b[0murl\u001b[0m\u001b[1;33m,\u001b[0m \u001b[0mv\u001b[0m \u001b[1;32min\u001b[0m \u001b[0mdic_list_urls\u001b[0m\u001b[1;33m.\u001b[0m\u001b[0mitems\u001b[0m\u001b[1;33m(\u001b[0m\u001b[1;33m)\u001b[0m\u001b[1;33m:\u001b[0m\u001b[1;33m\u001b[0m\u001b[1;33m\u001b[0m\u001b[0m\n\u001b[0m\u001b[0;32m      4\u001b[0m     \u001b[0mhtml\u001b[0m\u001b[1;33m=\u001b[0m\u001b[0mrequests\u001b[0m\u001b[1;33m.\u001b[0m\u001b[0mget\u001b[0m\u001b[1;33m(\u001b[0m\u001b[0murl\u001b[0m\u001b[1;33m)\u001b[0m\u001b[1;33m.\u001b[0m\u001b[0mcontent\u001b[0m\u001b[1;33m\u001b[0m\u001b[1;33m\u001b[0m\u001b[0m\n\u001b[0;32m      5\u001b[0m     \u001b[0msel\u001b[0m\u001b[1;33m=\u001b[0m\u001b[0mSelector\u001b[0m\u001b[1;33m(\u001b[0m\u001b[0mtext\u001b[0m\u001b[1;33m=\u001b[0m\u001b[0mhtml\u001b[0m\u001b[1;33m)\u001b[0m\u001b[1;33m\u001b[0m\u001b[1;33m\u001b[0m\u001b[0m\n",
      "\u001b[1;31mNameError\u001b[0m: name 'dic_list_urls' is not defined"
     ]
    }
   ],
   "source": [
    "start_time = time.time()\n",
    "dictionary2={}\n",
    "for url, v in dic_list_urls.items():\n",
    "    html=requests.get(url).content\n",
    "    sel=Selector(text=html)\n",
    "    for i in range(1,50):\n",
    "        l = sel.xpath('//*[@id=\"aps-overview\"]/div[2]/p[%d]/text()' % i).extract()\n",
    "        s = ''.join(n for n in l)\n",
    "        if s.find('جنية') !=-1:\n",
    "            price=(sel.xpath('//*[@id=\"aps-overview\"]/div[2]/p[%d]/text()' % i).extract()[0])\n",
    "            break\n",
    "    dictionary2[v] = price\n",
    "print(time.time() - start_time)"
   ]
  },
  {
   "cell_type": "code",
   "execution_count": 10,
   "id": "e04bdd86",
   "metadata": {},
   "outputs": [],
   "source": [
    "phone_price=pd.DataFrame(dictionary2.items(), columns=['SearchKey', 'Price'])"
   ]
  },
  {
   "cell_type": "code",
   "execution_count": 11,
   "id": "20458818",
   "metadata": {},
   "outputs": [],
   "source": [
    "member_phone_price = pd.merge(members_phones,phone_price,how='left',on='SearchKey')"
   ]
  },
  {
   "cell_type": "code",
   "execution_count": 12,
   "id": "7d5e76c3",
   "metadata": {},
   "outputs": [
    {
     "data": {
      "text/html": [
       "<div>\n",
       "<style scoped>\n",
       "    .dataframe tbody tr th:only-of-type {\n",
       "        vertical-align: middle;\n",
       "    }\n",
       "\n",
       "    .dataframe tbody tr th {\n",
       "        vertical-align: top;\n",
       "    }\n",
       "\n",
       "    .dataframe thead th {\n",
       "        text-align: right;\n",
       "    }\n",
       "</style>\n",
       "<table border=\"1\" class=\"dataframe\">\n",
       "  <thead>\n",
       "    <tr style=\"text-align: right;\">\n",
       "      <th></th>\n",
       "      <th>SearchKey</th>\n",
       "      <th>Price</th>\n",
       "    </tr>\n",
       "  </thead>\n",
       "  <tbody>\n",
       "    <tr>\n",
       "      <th>0</th>\n",
       "      <td>Alcatel 1C</td>\n",
       "      <td>NaN</td>\n",
       "    </tr>\n",
       "    <tr>\n",
       "      <th>1</th>\n",
       "      <td>Alcatel PIXI 4(6)</td>\n",
       "      <td>NaN</td>\n",
       "    </tr>\n",
       "    <tr>\n",
       "      <th>2</th>\n",
       "      <td>Alcatel OneTouch Pixi 3 (7)</td>\n",
       "      <td>NaN</td>\n",
       "    </tr>\n",
       "    <tr>\n",
       "      <th>3</th>\n",
       "      <td>TCL Plex</td>\n",
       "      <td>السعر للنسخة 128 جيجا مع 6 جيجا رام حوالي 3400...</td>\n",
       "    </tr>\n",
       "    <tr>\n",
       "      <th>4</th>\n",
       "      <td>Huawei Honor Play</td>\n",
       "      <td>NaN</td>\n",
       "    </tr>\n",
       "    <tr>\n",
       "      <th>...</th>\n",
       "      <td>...</td>\n",
       "      <td>...</td>\n",
       "    </tr>\n",
       "    <tr>\n",
       "      <th>789</th>\n",
       "      <td>LG V30s Thinq</td>\n",
       "      <td>NaN</td>\n",
       "    </tr>\n",
       "    <tr>\n",
       "      <th>790</th>\n",
       "      <td>Lava Iris 61</td>\n",
       "      <td>NaN</td>\n",
       "    </tr>\n",
       "    <tr>\n",
       "      <th>791</th>\n",
       "      <td>Asus ZenFone 5</td>\n",
       "      <td>NaN</td>\n",
       "    </tr>\n",
       "    <tr>\n",
       "      <th>792</th>\n",
       "      <td>Tecno Spark 8T</td>\n",
       "      <td>NaN</td>\n",
       "    </tr>\n",
       "    <tr>\n",
       "      <th>793</th>\n",
       "      <td>Realme Q3 Pro Carnival</td>\n",
       "      <td>NaN</td>\n",
       "    </tr>\n",
       "  </tbody>\n",
       "</table>\n",
       "<p>794 rows × 2 columns</p>\n",
       "</div>"
      ],
      "text/plain": [
       "                       SearchKey  \\\n",
       "0                     Alcatel 1C   \n",
       "1              Alcatel PIXI 4(6)   \n",
       "2    Alcatel OneTouch Pixi 3 (7)   \n",
       "3                       TCL Plex   \n",
       "4              Huawei Honor Play   \n",
       "..                           ...   \n",
       "789                LG V30s Thinq   \n",
       "790                 Lava Iris 61   \n",
       "791               Asus ZenFone 5   \n",
       "792               Tecno Spark 8T   \n",
       "793       Realme Q3 Pro Carnival   \n",
       "\n",
       "                                                 Price  \n",
       "0                                                  NaN  \n",
       "1                                                  NaN  \n",
       "2                                                  NaN  \n",
       "3    السعر للنسخة 128 جيجا مع 6 جيجا رام حوالي 3400...  \n",
       "4                                                  NaN  \n",
       "..                                                 ...  \n",
       "789                                                NaN  \n",
       "790                                                NaN  \n",
       "791                                                NaN  \n",
       "792                                                NaN  \n",
       "793                                                NaN  \n",
       "\n",
       "[794 rows x 2 columns]"
      ]
     },
     "execution_count": 12,
     "metadata": {},
     "output_type": "execute_result"
    }
   ],
   "source": [
    "member_phone_price"
   ]
  },
  {
   "cell_type": "code",
   "execution_count": 13,
   "id": "5172da64",
   "metadata": {},
   "outputs": [
    {
     "name": "stdout",
     "output_type": "stream",
     "text": [
      "before loading\n",
      "after loading\n"
     ]
    },
    {
     "data": {
      "text/plain": [
       "LoadJob<project=brimore-fae8c, location=US, id=af065524-68f9-445b-b5ab-f06260e3f313>"
      ]
     },
     "execution_count": 13,
     "metadata": {},
     "output_type": "execute_result"
    }
   ],
   "source": [
    "job_config = bigquery.LoadJobConfig(write_disposition=\"WRITE_TRUNCATE\")\n",
    "print('before loading')\n",
    "    # Load Data\n",
    "job = bq_client.load_table_from_dataframe(\n",
    "member_phone_price,'brimore-fae8c.eve_analytics.mobizil_scaping', job_config=job_config)  # Make an API request.\n",
    "print('after loading')\n",
    "job.result()  # Wait for the job to complete."
   ]
  },
  {
   "cell_type": "code",
   "execution_count": null,
   "id": "2a4c3c66",
   "metadata": {},
   "outputs": [],
   "source": []
  }
 ],
 "metadata": {
  "kernelspec": {
   "display_name": "Python 3",
   "language": "python",
   "name": "python3"
  },
  "language_info": {
   "codemirror_mode": {
    "name": "ipython",
    "version": 3
   },
   "file_extension": ".py",
   "mimetype": "text/x-python",
   "name": "python",
   "nbconvert_exporter": "python",
   "pygments_lexer": "ipython3",
   "version": "3.8.8"
  }
 },
 "nbformat": 4,
 "nbformat_minor": 5
}
